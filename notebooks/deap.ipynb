{
 "cells": [
  {
   "cell_type": "markdown",
   "metadata": {},
   "source": [
    "# Download BERPublicsearch.zip, unzip & convert to parquet"
   ]
  },
  {
   "cell_type": "code",
   "execution_count": null,
   "metadata": {},
   "outputs": [],
   "source": [
    "!pip install geopandas seaborn matplotlib descartes seai-deap git+https://github.com/codema-dev/ber-public"
   ]
  },
  {
   "cell_type": "code",
   "execution_count": null,
   "metadata": {},
   "outputs": [],
   "source": [
    "from ber_public.download import download_berpublicsearch_parquet\n",
    "\n",
    "# Register your email address with SEAI at https://ndber.seai.ie/BERResearchTool/Register/Register.aspx\n",
    "email_address=\"EMAIL-ADDRESS\"\n",
    "download_berpublicsearch_parquet(email_address)"
   ]
  },
  {
   "cell_type": "markdown",
   "metadata": {},
   "source": [
    "# On the `BER Public` dataset calculate:\n",
    "\n",
    "- Fabric Heat Loss [W/K]\n",
    "- Ventilation Heat Loss [W/K]\n",
    "- Heat Loss Coefficient [W/K]\n",
    "- Heat Loss Parameter - *HLP < 2 => dwelling is heat pump ready*\n",
    "- Annual Heat Loss [kWh/year]\n",
    "\n",
    "... as in DEAP 4.2.2"
   ]
  },
  {
   "cell_type": "code",
   "execution_count": 1,
   "metadata": {},
   "outputs": [],
   "source": [
    "import dask.dataframe as dd\n",
    "import geopandas as gpd\n",
    "import matplotlib.pyplot as plt\n",
    "import seaborn as sns\n",
    "\n",
    "from ber_public import calc"
   ]
  },
  {
   "cell_type": "code",
   "execution_count": 2,
   "metadata": {},
   "outputs": [],
   "source": [
    "ireland_bers = dd.read_parquet(\"BERPublicsearch_parquet\")"
   ]
  },
  {
   "cell_type": "code",
   "execution_count": 3,
   "metadata": {},
   "outputs": [],
   "source": [
    "# extract Dublin BERs and convert from dask to pandas via compute()\n",
    "building_stock = (\n",
    "    ireland_bers[ireland_bers[\"CountyName\"].str.contains('Dublin')].compute()\n",
    "    .reset_index(drop=True)\n",
    ")"
   ]
  },
  {
   "cell_type": "code",
   "execution_count": 4,
   "metadata": {},
   "outputs": [],
   "source": [
    "heat_loss_parameter = calc.calculate_heat_loss_parameter(building_stock)"
   ]
  },
  {
   "cell_type": "code",
   "execution_count": 5,
   "metadata": {},
   "outputs": [
    {
     "data": {
      "text/plain": [
       "0         1.192042\n",
       "1         1.887718\n",
       "2         1.597662\n",
       "3         1.582141\n",
       "4         1.563511\n",
       "            ...   \n",
       "288787    2.942758\n",
       "288788    2.861879\n",
       "288789    3.916828\n",
       "288790    0.870904\n",
       "288791    2.757481\n",
       "Length: 288792, dtype: float64"
      ]
     },
     "execution_count": 5,
     "metadata": {},
     "output_type": "execute_result"
    }
   ],
   "source": [
    "heat_loss_parameter"
   ]
  },
  {
   "cell_type": "code",
   "execution_count": 6,
   "metadata": {},
   "outputs": [],
   "source": [
    "annual_heat_loss = calc.calculate_annual_heat_loss(building_stock)"
   ]
  },
  {
   "cell_type": "code",
   "execution_count": 7,
   "metadata": {},
   "outputs": [
    {
     "data": {
      "text/plain": [
       "0          5239.0\n",
       "1          7105.0\n",
       "2          5755.0\n",
       "3          7649.0\n",
       "4          7498.0\n",
       "           ...   \n",
       "288787    24179.0\n",
       "288788    14578.0\n",
       "288789    15717.0\n",
       "288790     4601.0\n",
       "288791    14206.0\n",
       "Length: 288792, dtype: float64"
      ]
     },
     "execution_count": 7,
     "metadata": {},
     "output_type": "execute_result"
    }
   ],
   "source": [
    "annual_heat_loss"
   ]
  },
  {
   "cell_type": "code",
   "execution_count": null,
   "metadata": {},
   "outputs": [],
   "source": []
  }
 ],
 "metadata": {
  "interpreter": {
   "hash": "6a5ac941e7f67387d9352b636f46aaf1c447f57947252a8b42098e4f9e8cd7e2"
  },
  "kernelspec": {
   "display_name": "Python 3.9.4 64-bit ('ber': conda)",
   "name": "python3"
  },
  "language_info": {
   "codemirror_mode": {
    "name": "ipython",
    "version": 3
   },
   "file_extension": ".py",
   "mimetype": "text/x-python",
   "name": "python",
   "nbconvert_exporter": "python",
   "pygments_lexer": "ipython3",
   "version": "3.9.4"
  }
 },
 "nbformat": 4,
 "nbformat_minor": 4
}