{
 "cells": [
  {
   "source": [
    "# Download BERPublicsearch.zip, unzip & convert to parquet"
   ],
   "cell_type": "markdown",
   "metadata": {}
  },
  {
   "cell_type": "code",
   "execution_count": null,
   "metadata": {},
   "outputs": [],
   "source": [
    "# If running this in Google Colab\n",
    "# If prompted click the `RESTART RUNTIME` button below this cell\n",
    "# !pip install berpublicsearch numexpr"
   ]
  },
  {
   "cell_type": "code",
   "execution_count": null,
   "metadata": {},
   "outputs": [],
   "source": [
    "# Register your email address with SEAI at https://ndber.seai.ie/BERResearchTool/Register/Register.aspx\n",
    "email_address=\"rowan.molony@codema.ie\""
   ]
  },
  {
   "cell_type": "code",
   "execution_count": null,
   "metadata": {},
   "outputs": [],
   "source": [
    "from berpublicsearch.download import download_berpublicsearch_parquet\n",
    "\n",
    "download_berpublicsearch_parquet(email_address)"
   ]
  },
  {
   "source": [
    "# Experiment with Filters\n",
    "\n",
    "Filters developed by [UCC MaREI Group](https://www.marei.ie/) and [TUDublin](https://www.tudublin.ie/) researchers [Tomas Mac Uidir](https://www.researchgate.net/profile/Tomas_Mac_Uidhir), [Fionn Rogan](https://www.researchgate.net/profile/Fionn_Rogan), [Jason Mc Guire](https://www.researchgate.net/profile/Jason_Mc_Guire) and [Ciara Ahern](https://www.researchgate.net/profile/Ciara_Ahern)"
   ],
   "cell_type": "markdown",
   "metadata": {}
  },
  {
   "cell_type": "code",
   "execution_count": null,
   "metadata": {},
   "outputs": [],
   "source": [
    "import dask.dataframe as dd\n",
    "\n",
    "ber = dd.read_parquet(\"BERPublicsearch_parquet\")"
   ]
  },
  {
   "cell_type": "markdown",
   "metadata": {},
   "source": []
  },
  {
   "cell_type": "markdown",
   "metadata": {},
   "source": [
    "# Create a `TotalFloorArea` column\n",
    "\n",
    "<span style=\"color:red\"> ... there's more 0 FloorArea buildings than there are 0 GroundFloorArea buildings SO FloorArea is not a reliable column and can be derived instead from:</span> \n",
    "\n",
    "```\n",
    "TotalFloorArea = GroundFloorArea + FirstFloorArea + SecondFloorArea + ThirdFloorArea\n",
    "```\n",
    "\n",
    "Try:\n",
    "\n",
    "```ber.query(\"`FloorArea` <= 0\").compute()```\n",
    "\n",
    "vs \n",
    "\n",
    "```ber.query(\"`GroundFloorArea` <= 0\").compute()```"
   ]
  },
  {
   "cell_type": "code",
   "execution_count": null,
   "metadata": {},
   "outputs": [],
   "source": [
    "ber[\"TotalFloorArea\"] = ber.eval(\"GroundFloorArea + FirstFloorArea + SecondFloorArea + ThirdFloorArea\")"
   ]
  },
  {
   "cell_type": "markdown",
   "metadata": {},
   "source": [
    "# Check impact of each individual filter"
   ]
  },
  {
   "cell_type": "markdown",
   "metadata": {},
   "source": [
    "TypeofRating IS ‘Provisional’"
   ]
  },
  {
   "cell_type": "code",
   "execution_count": null,
   "metadata": {},
   "outputs": [],
   "source": [
    "ber.query(\"`TypeofRating` == 'Provisional    '\").compute()"
   ]
  },
  {
   "cell_type": "markdown",
   "metadata": {},
   "source": [
    "TotalFloorArea <= 0 m^2"
   ]
  },
  {
   "cell_type": "code",
   "execution_count": null,
   "metadata": {},
   "outputs": [],
   "source": [
    "ber.query(\"`TotalFloorArea` <= 0\").compute()"
   ]
  },
  {
   "cell_type": "markdown",
   "metadata": {},
   "source": [
    "GroundFloorArea < 30m^2 or  GroundFloorArea > 1000m2 "
   ]
  },
  {
   "cell_type": "code",
   "execution_count": null,
   "metadata": {},
   "outputs": [],
   "source": [
    "ber.query(\"`GroundFloorArea` < 30 or `GroundFloorArea` > 1000\").compute()"
   ]
  },
  {
   "cell_type": "markdown",
   "metadata": {},
   "source": [
    "TotalFloorArea > 500 m2 AND DwellingTypeDescr IN ('End of terrace house','Mid-terrace house','Top-floor apartment','Mid-floor apartment','Basement Dwelling','Apartment','Semi-detached house','Maisonette','Ground-floor apartment') "
   ]
  },
  {
   "cell_type": "code",
   "execution_count": null,
   "metadata": {},
   "outputs": [],
   "source": [
    "ber.query(\"`TotalFloorArea` > 500 and `DwellingTypeDescr` == ['End of terrace house','Mid-terrace house','Top-floor apartment','Mid-floor apartment','Basement Dwelling','Apartment','Semi-detached house','Maisonette','Ground-floor apartment']\").compute()"
   ]
  },
  {
   "cell_type": "markdown",
   "metadata": {},
   "source": [
    "LivingAreaPercent > 90 or LivingAreaPercent < 5 "
   ]
  },
  {
   "cell_type": "code",
   "execution_count": null,
   "metadata": {},
   "outputs": [],
   "source": [
    "ber.query(\"`LivingAreaPercent` > 90 or `LivingAreaPercent` < 5\").compute()"
   ]
  },
  {
   "cell_type": "markdown",
   "metadata": {},
   "source": [
    "HSMainSystemEfficiency ≤ 19"
   ]
  },
  {
   "cell_type": "code",
   "execution_count": null,
   "metadata": {},
   "outputs": [],
   "source": [
    "ber.query(\"`HSMainSystemEfficiency` <= 19\").compute()"
   ]
  },
  {
   "cell_type": "markdown",
   "metadata": {},
   "source": [
    "HSEffAdjFactor < 0.7 "
   ]
  },
  {
   "cell_type": "code",
   "execution_count": null,
   "metadata": {},
   "outputs": [],
   "source": [
    "ber.query(\"`HSEffAdjFactor` < 0.7\").compute()"
   ]
  },
  {
   "cell_type": "markdown",
   "metadata": {},
   "source": [
    "WHMainSystemEff > 320 or WHMainSystemEff < 19 "
   ]
  },
  {
   "cell_type": "code",
   "execution_count": null,
   "metadata": {},
   "outputs": [],
   "source": [
    "ber.query(\"`WHMainSystemEff` > 320 or `WHMainSystemEff` < 19\").compute()"
   ]
  },
  {
   "cell_type": "markdown",
   "metadata": {},
   "source": [
    "WHEffAdjFactor < 0.7 "
   ]
  },
  {
   "cell_type": "code",
   "execution_count": null,
   "metadata": {},
   "outputs": [],
   "source": [
    "ber.query(\"`WHEffAdjFactor` < 0.7\").compute()"
   ]
  },
  {
   "cell_type": "markdown",
   "metadata": {},
   "source": [
    "HSSupplSystemEff < 19 "
   ]
  },
  {
   "cell_type": "code",
   "execution_count": null,
   "metadata": {},
   "outputs": [],
   "source": [
    "ber.query(\"`HSSupplSystemEff` < 19\").compute()"
   ]
  },
  {
   "cell_type": "markdown",
   "metadata": {},
   "source": [
    "HSSupplHeatFraction ⊄ (0,0.1,0.15,0.2)\n",
    "\n",
    "<span style=\"color:red\"> ... both [query and masking](https://pandas.pydata.org/docs/user_guide/indexing.html) are only grabbing out 0 values and not [0.1,0.15,0.2] </span> \n"
   ]
  },
  {
   "cell_type": "code",
   "execution_count": null,
   "metadata": {},
   "outputs": [],
   "source": [
    "ber_heatfrac = ber.query(\"HSSupplHeatFraction not in [0, 0.10, 0.15, 0.20]\").compute()"
   ]
  },
  {
   "cell_type": "code",
   "execution_count": null,
   "metadata": {},
   "outputs": [],
   "source": [
    "ber_heatfrac = ber[~ber[\"HSSupplHeatFraction\"].isin([0, 0.10, 0.15, 0.20])].compute()"
   ]
  },
  {
   "cell_type": "code",
   "execution_count": null,
   "metadata": {},
   "outputs": [],
   "source": [
    "ber[\"HSSupplHeatFraction\"].value_counts().compute()"
   ]
  },
  {
   "cell_type": "code",
   "execution_count": null,
   "metadata": {},
   "outputs": [],
   "source": [
    "ber_heatfrac[\"HSSupplHeatFraction\"].value_counts()"
   ]
  },
  {
   "cell_type": "markdown",
   "metadata": {},
   "source": [
    "DeclaredLossFactor > 20 "
   ]
  },
  {
   "cell_type": "code",
   "execution_count": null,
   "metadata": {},
   "outputs": [],
   "source": [
    "ber.query(\"`DeclaredLossFactor` > 20\").compute()"
   ]
  },
  {
   "cell_type": "markdown",
   "metadata": {},
   "source": [
    "ThermalBridgingFactor < 0 or ThermalBridgingFactor > 0.15 "
   ]
  },
  {
   "cell_type": "code",
   "execution_count": null,
   "metadata": {},
   "outputs": [],
   "source": [
    "ber.query(\"`ThermalBridgingFactor` < 0 or `ThermalBridgingFactor` > 0.15\").compute()"
   ]
  },
  {
   "cell_type": "markdown",
   "metadata": {},
   "source": [
    "# Check combined impact of filters"
   ]
  },
  {
   "cell_type": "markdown",
   "metadata": {},
   "source": [
    "[x] `TypeofRating` != 'Provisional    ' \\\n",
    "[x] `TotalFloorArea` > 0 \\\n",
    "[x] `GroundFloorArea` > 30 and `GroundFloorArea` < 1000 \\\n",
    "[x] `TotalFloorArea` < 500 and `DwellingTypeDescr` == ['End of terrace house','Mid-terrace house','Top-floor apartment','Mid-floor apartment','Basement Dwelling','Apartment','Semi-detached house','Maisonette','Ground-floor apartment'] \\\n",
    "[x] `LivingAreaPercent` < 90 or `LivingAreaPercent` > 5 \\\n",
    "[x] `HSMainSystemEfficiency` > 19 \\\n",
    "[x] `HSEffAdjFactor` > 0.7 \\\n",
    "[x] `WHMainSystemEff` < 320 or `WHMainSystemEff` > 19 \\\n",
    "[x] `WHEffAdjFactor` > 0.7 \\\n",
    "[x] `HSSupplSystemEff` > 19 \\\n",
    "[ ] `HSSupplHeatFraction` in [0.00,0.10,0.15,0.20] \\\n",
    "[x] `DeclaredLossFactor` < 20 \\\n",
    "[x] `ThermalBridgingFactor` > 0 or `ThermalBridgingFactor` <= 0.15 \\"
   ]
  },
  {
   "cell_type": "code",
   "execution_count": null,
   "metadata": {},
   "outputs": [],
   "source": [
    "ber_filtered = (\n",
    "    ber.query(\"`TypeofRating` != 'Provisional    '\")\n",
    "    .query(\"`TotalFloorArea` > 0\")\n",
    "    .query(\"`GroundFloorArea` > 30 and `GroundFloorArea` < 1000\")\n",
    "    .query(\"`TotalFloorArea` < 500 and `DwellingTypeDescr` == ['End of terrace house','Mid-terrace house','Top-floor apartment','Mid-floor apartment','Basement Dwelling','Apartment','Semi-detached house','Maisonette','Ground-floor apartment']\")\n",
    "    .query(\"`LivingAreaPercent` < 90 or `LivingAreaPercent` > 5\")\n",
    "    .query(\"`HSMainSystemEfficiency` > 19\")\n",
    "    .query(\"`HSEffAdjFactor` > 0.7\")\n",
    "    .query(\"`WHMainSystemEff` < 320 or `WHMainSystemEff` > 19\")\n",
    "    .query(\"`WHEffAdjFactor` > 0.7\")\n",
    "    .query(\"`HSSupplSystemEff` > 19\")\n",
    "#     .loc[ber[\"HSSupplHeatFraction\"].astype(float).isin([0, 0.10, 0.15, 0.20])]\n",
    "    .query(\"`DeclaredLossFactor` < 20\")\n",
    "    .query(\"`ThermalBridgingFactor` > 0 or `ThermalBridgingFactor` <= 0.15\")\n",
    "    .compute()\n",
    ")"
   ]
  },
  {
   "cell_type": "code",
   "execution_count": null,
   "metadata": {},
   "outputs": [],
   "source": [
    "len(ber) "
   ]
  },
  {
   "cell_type": "code",
   "execution_count": null,
   "metadata": {},
   "outputs": [],
   "source": [
    "len(ber_filtered)"
   ]
  },
  {
   "cell_type": "code",
   "execution_count": null,
   "metadata": {},
   "outputs": [],
   "source": [
    "percentage_reduction = 100 * (len(ber) - len(ber_filtered)) / len(ber)"
   ]
  },
  {
   "cell_type": "code",
   "execution_count": null,
   "metadata": {},
   "outputs": [],
   "source": [
    "display(f\"Filtering eliminated {percentage_reduction}%\")"
   ]
  }
 ],
 "metadata": {
  "kernelspec": {
   "display_name": "Python 3",
   "language": "python",
   "name": "python3"
  },
  "language_info": {
   "codemirror_mode": {
    "name": "ipython",
    "version": 3
   },
   "file_extension": ".py",
   "mimetype": "text/x-python",
   "name": "python",
   "nbconvert_exporter": "python",
   "pygments_lexer": "ipython3",
   "version": "3.9.1"
  }
 },
 "nbformat": 4,
 "nbformat_minor": 4
}