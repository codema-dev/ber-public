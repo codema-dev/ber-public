{
 "cells": [
  {
   "cell_type": "markdown",
   "metadata": {},
   "source": [
    "# Download BERPublicsearch.zip, unzip & convert to parquet"
   ]
  },
  {
   "cell_type": "code",
   "execution_count": 10,
   "metadata": {},
   "outputs": [
    {
     "name": "stdout",
     "output_type": "stream",
     "text": [
      "Collecting git+https://github.com/codema-dev/ber-public\n",
      "  Cloning https://github.com/codema-dev/ber-public to /tmp/pip-req-build-dovphlgk\n",
      "  Running command git clone -q https://github.com/codema-dev/ber-public /tmp/pip-req-build-dovphlgk\n",
      "^C\n",
      "\u001b[31mERROR: Operation cancelled by user\u001b[0m\n"
     ]
    }
   ],
   "source": [
    "!pip install geopandas seaborn matplotlib descartes seai-deap git+https://github.com/codema-dev/ber-public"
   ]
  },
  {
   "cell_type": "code",
   "execution_count": null,
   "metadata": {},
   "outputs": [],
   "source": [
    "from ber_public.download import download_berpublicsearch_parquet\n",
    "\n",
    "# Register your email address with SEAI at https://ndber.seai.ie/BERResearchTool/Register/Register.aspx\n",
    "email_address=\"EMAIL-ADDRESS\"\n",
    "download_berpublicsearch_parquet(email_address)"
   ]
  },
  {
   "cell_type": "markdown",
   "metadata": {},
   "source": [
    "# Calculate the Heat Loss Parameter for the `BER Public search` dataset\n",
    "\n",
    "... to estimate the number of households currently eligible for Heat Pumps"
   ]
  },
  {
   "cell_type": "code",
   "execution_count": 1,
   "metadata": {},
   "outputs": [],
   "source": [
    "import dask.dataframe as dd\n",
    "import geopandas as gpd\n",
    "import matplotlib.pyplot as plt\n",
    "import seaborn as sns\n",
    "\n",
    "from ber_public import archetype\n",
    "from ber_public.deap import dim\n",
    "from ber_public.deap import fab\n",
    "from ber_public.deap import vent"
   ]
  },
  {
   "cell_type": "code",
   "execution_count": 2,
   "metadata": {},
   "outputs": [],
   "source": [
    "columns = [\n",
    "    'CountyName',\n",
    "    \n",
    "    # Area\n",
    "\t'WallArea',\n",
    "\t'RoofArea',\n",
    "\t'FloorArea',\n",
    "\t'WindowArea',\n",
    "\t'DoorArea',\n",
    "\t'GroundFloorArea',\n",
    "\t'FirstFloorArea',\n",
    "\t'SecondFloorArea',\n",
    "\t'ThirdFloorArea',\n",
    " \n",
    "\t# Floor Heights\n",
    "\t'GroundFloorHeight',\n",
    "\t'FirstFloorHeight',\n",
    "\t'SecondFloorHeight',\n",
    "\t'ThirdFloorHeight',\n",
    " \n",
    "\t# Uvalues\n",
    "\t'UValueWall',\n",
    "\t'UValueRoof',\n",
    "\t'UValueFloor',\n",
    "\t'UValueWindow',\n",
    "\t'UvalueDoor',\n",
    " \n",
    " \t# Ventilation\n",
    "  \t'NoOfSidesSheltered',\n",
    "   \t'NoOfChimneys',\n",
    "    'NoOfOpenFlues',\n",
    "    'NoOfFansAndVents',\n",
    "\t'NoOfFluelessGasFires',\n",
    " \t'DraftLobby',\n",
    "\t'PermeabilityTest',\n",
    "\t'PermeabilityTestResult',\n",
    "\t'NoStoreys',\n",
    " \t'PercentageDraughtStripped',\n",
    "\t'SuspendedWoodenFloor',\n",
    "\t'StructureType',\n",
    "\t'VentilationMethod',\n",
    "\t'HeatExchangerEff',\n",
    "]"
   ]
  },
  {
   "cell_type": "code",
   "execution_count": 3,
   "metadata": {},
   "outputs": [],
   "source": [
    "ireland_bers = dd.read_parquet(\"BERPublicsearch_parquet\", columns=columns)"
   ]
  },
  {
   "cell_type": "code",
   "execution_count": 4,
   "metadata": {},
   "outputs": [],
   "source": [
    "# extract Dublin BERs and convert from dask to pandas via compute()\n",
    "building_stock = (\n",
    "    ireland_bers[ireland_bers[\"CountyName\"].str.contains('Dublin')].compute()\n",
    "    .reset_index(drop=True)\n",
    ")"
   ]
  },
  {
   "cell_type": "markdown",
   "metadata": {},
   "source": [
    "# Calculate HLP as in DEAP 4.2.2"
   ]
  },
  {
   "cell_type": "code",
   "execution_count": 5,
   "metadata": {},
   "outputs": [],
   "source": [
    "building_volume = (\n",
    "    building_stock[\"GroundFloorArea\"].fillna(0) * building_stock[\"GroundFloorHeight\"].fillna(0)\n",
    "    + building_stock[\"FirstFloorArea\"].fillna(0) * building_stock[\"FirstFloorHeight\"].fillna(0)\n",
    "    + building_stock[\"SecondFloorArea\"].fillna(0) * building_stock[\"SecondFloorHeight\"].fillna(0)\n",
    "    + building_stock[\"ThirdFloorArea\"].fillna(0) * building_stock[\"ThirdFloorHeight\"].fillna(0)\n",
    ")"
   ]
  },
  {
   "cell_type": "code",
   "execution_count": 6,
   "metadata": {},
   "outputs": [],
   "source": [
    "fabric_heat_loss = fab.calculate_fabric_heat_loss(\n",
    "\troof_area=building_stock[\"RoofArea\"],\n",
    "    roof_uvalue=building_stock[\"UValueRoof\"],\n",
    "    wall_area=building_stock[\"WallArea\"],\n",
    "    wall_uvalue=building_stock[\"UValueWall\"],\n",
    "    floor_area=building_stock[\"FloorArea\"],\n",
    "    floor_uvalue=building_stock[\"UValueFloor\"],\n",
    "    window_area=building_stock[\"WindowArea\"],\n",
    "    window_uvalue=building_stock[\"UValueWindow\"],\n",
    "    door_area=building_stock[\"DoorArea\"],\n",
    "    door_uvalue=building_stock[\"UvalueDoor\"],\n",
    "    thermal_bridging_factor=0.05,\n",
    ")"
   ]
  },
  {
   "cell_type": "code",
   "execution_count": 7,
   "metadata": {},
   "outputs": [],
   "source": [
    "infiltration_rate = vent.calculate_infiltration_rate(\n",
    "    no_sides_sheltered=building_stock[\"NoOfSidesSheltered\"],\n",
    "    building_volume=building_volume,\n",
    "    no_chimneys=building_stock[\"NoOfChimneys\"],\n",
    "    no_open_flues=building_stock[\"NoOfOpenFlues\"],\n",
    "    no_fans=building_stock[\"NoOfFansAndVents\"],\n",
    "    no_room_heaters=building_stock[\"NoOfFluelessGasFires\"],\n",
    "    is_draught_lobby=building_stock[\"DraftLobby\"],\n",
    "    is_permeability_tested=building_stock[\"PermeabilityTest\"],\n",
    "    permeability_test_result=building_stock[\"PermeabilityTestResult\"],\n",
    "    no_storeys=building_stock[\"NoStoreys\"],\n",
    "    percentage_draught_stripped=building_stock[\"PercentageDraughtStripped\"],\n",
    "    is_floor_suspended=building_stock[\"SuspendedWoodenFloor\"],\n",
    "    structure_type=building_stock[\"StructureType\"],\n",
    ")"
   ]
  },
  {
   "cell_type": "code",
   "execution_count": 8,
   "metadata": {},
   "outputs": [],
   "source": [
    "effective_air_rate_change = vent.calculate_effective_air_rate_change(\n",
    "\tventilation_method=building_stock[\"VentilationMethod\"],\n",
    "    building_volume=building_volume,\n",
    "    infiltration_rate=infiltration_rate,\n",
    "    heat_exchanger_efficiency=building_stock[\"HeatExchangerEff\"],\n",
    ")"
   ]
  },
  {
   "cell_type": "code",
   "execution_count": 9,
   "metadata": {},
   "outputs": [],
   "source": [
    "ventilation_heat_loss = vent.calculate_ventilation_heat_loss(\n",
    "\tbuilding_volume=building_volume,\n",
    "\teffective_air_rate_change=effective_air_rate_change,\n",
    "\tventilation_heat_loss_constant=0.33,\n",
    ")"
   ]
  },
  {
   "cell_type": "code",
   "execution_count": 14,
   "metadata": {},
   "outputs": [],
   "source": [
    "total_floor_area = (\n",
    "\tbuilding_stock[\"GroundFloorArea\"].fillna(0)\n",
    "    + building_stock[\"FirstFloorArea\"].fillna(0)\n",
    "\t+ building_stock[\"SecondFloorArea\"].fillna(0)\n",
    "    + building_stock[\"ThirdFloorArea\"].fillna(0)\n",
    ")"
   ]
  },
  {
   "cell_type": "code",
   "execution_count": 16,
   "metadata": {},
   "outputs": [],
   "source": [
    "heat_loss_coefficient = fabric_heat_loss + ventilation_heat_loss"
   ]
  },
  {
   "cell_type": "code",
   "execution_count": 23,
   "metadata": {},
   "outputs": [],
   "source": [
    "assert total_floor_area[total_floor_area.isna()].empty\n",
    "heat_loss_parameter = heat_loss_coefficient / total_floor_area"
   ]
  }
 ],
 "metadata": {
  "interpreter": {
   "hash": "6a5ac941e7f67387d9352b636f46aaf1c447f57947252a8b42098e4f9e8cd7e2"
  },
  "kernelspec": {
   "display_name": "Python 3.9.4 64-bit ('ber': conda)",
   "name": "python3"
  },
  "language_info": {
   "codemirror_mode": {
    "name": "ipython",
    "version": 3
   },
   "file_extension": ".py",
   "mimetype": "text/x-python",
   "name": "python",
   "nbconvert_exporter": "python",
   "pygments_lexer": "ipython3",
   "version": "3.9.4"
  }
 },
 "nbformat": 4,
 "nbformat_minor": 4
}