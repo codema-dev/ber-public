{
 "cells": [
  {
   "cell_type": "markdown",
   "metadata": {},
   "source": [
    "# Run `setup.ipynb` first to download and convert `BER Public Search` to `parquet`"
   ]
  },
  {
   "cell_type": "code",
   "execution_count": null,
   "metadata": {},
   "outputs": [],
   "source": [
    "!pip install geopandas seai_deap"
   ]
  },
  {
   "cell_type": "code",
   "execution_count": null,
   "metadata": {},
   "outputs": [],
   "source": [
    "from google.colab import drive\n",
    "drive.mount('/content/drive')"
   ]
  },
  {
   "cell_type": "code",
   "execution_count": null,
   "metadata": {},
   "outputs": [],
   "source": [
    "save_directory = \"/content/drive/MyDrive/berpublicsearch\"\n",
    "path_to_berpublicsearch_unzipped = f\"{save_directory}/BERPublicsearch\"\n",
    "path_to_berpublicsearch_parquet = f\"{save_directory}/BERPublicsearch_parquet\""
   ]
  },
  {
   "cell_type": "markdown",
   "metadata": {},
   "source": [
    "# Calculate the Heat Loss Parameter for the `BER Public search` dataset\n",
    "\n",
    "... to estimate the number of households currently eligible for Heat Pumps"
   ]
  },
  {
   "cell_type": "code",
   "execution_count": null,
   "metadata": {},
   "outputs": [],
   "source": [
    "import dask.dataframe as dd\n",
    "import geopandas as gpd\n",
    "import matplotlib.pyplot as plt\n",
    "import seaborn as sns\n",
    "from seai_deap import fab\n",
    "from seai_deap import dim\n",
    "from seai_deap import vent"
   ]
  },
  {
   "cell_type": "code",
   "execution_count": null,
   "metadata": {},
   "outputs": [],
   "source": [
    "ber = dd.read_parquet(\n",
    "    path_to_berpublicsearch_parquet,\n",
    "    columns=[\n",
    "        'CountyName',\n",
    "        'Year_of_Construction',\n",
    "        'UValueWall',\n",
    "        'UValueRoof',\n",
    "        'UValueFloor',\n",
    "        'UValueWindow',\n",
    "        'UvalueDoor',\n",
    "        'WallArea',\n",
    "        'RoofArea',\n",
    "        'FloorArea',\n",
    "        'WindowArea',\n",
    "        'DoorArea',\n",
    "        'GroundFloorArea',\n",
    "        'GroundFloorHeight',\n",
    "        'FirstFloorArea',\n",
    "        'FirstFloorHeight',\n",
    "        'SecondFloorArea',\n",
    "        'SecondFloorHeight',\n",
    "        'ThirdFloorArea',\n",
    "        'ThirdFloorHeight',\n",
    "        'ThermalBridgingFactor',\n",
    "    ],\n",
    ").compute()"
   ]
  },
  {
   "cell_type": "markdown",
   "metadata": {},
   "source": [
    "# Calculate HLP as in DEAP 4.2.2"
   ]
  },
  {
   "cell_type": "code",
   "execution_count": null,
   "metadata": {},
   "outputs": [],
   "source": [
    "thermal_bridging = fab.calculate_thermal_bridging(\n",
    "    wall_area=ber[\"WallArea\"],\n",
    "    roof_area=ber[\"RoofArea\"],\n",
    "    floor_area=ber[\"FloorArea\"],\n",
    "    window_area=ber[\"WindowArea\"],\n",
    "    door_area=ber[\"DoorArea\"],\n",
    "    thermal_bridging_factor=ber[\"ThermalBridgingFactor\"],\n",
    ")"
   ]
  },
  {
   "cell_type": "code",
   "execution_count": null,
   "metadata": {},
   "outputs": [],
   "source": [
    "heat_loss_via_plane_elements = fab.calculate_heat_loss_via_plane_elements(\n",
    "    wall_area=ber[\"WallArea\"],\n",
    "    roof_area=ber[\"RoofArea\"],\n",
    "    floor_area=ber[\"FloorArea\"],\n",
    "    window_area=ber[\"WindowArea\"],\n",
    "    door_area=ber[\"DoorArea\"],\n",
    "    wall_uvalue=ber[\"UValueWall\"],\n",
    "    roof_uvalue=ber[\"UValueRoof\"],\n",
    "    floor_uvalue=ber[\"UValueFloor\"],\n",
    "    window_uvalue=ber[\"UValueWindow\"],\n",
    "    door_uvalue=ber[\"UvalueDoor\"],\n",
    ")"
   ]
  },
  {
   "cell_type": "code",
   "execution_count": null,
   "metadata": {},
   "outputs": [],
   "source": [
    "fabric_heat_loss = fab.calculate_fabric_heat_loss(\n",
    "    heat_loss_via_plane_elements=heat_loss_via_plane_elements,\n",
    "    thermal_bridging=thermal_bridging,\n",
    ")"
   ]
  },
  {
   "cell_type": "code",
   "execution_count": null,
   "metadata": {},
   "outputs": [],
   "source": [
    "building_volume = dim.calculate_building_volume(\n",
    "    ground_floor_area=ber[\"GroundFloorArea\"],\n",
    "    first_floor_area=ber[\"FirstFloorArea\"],\n",
    "    second_floor_area=ber[\"SecondFloorArea\"],\n",
    "    third_floor_area=ber[\"ThirdFloorArea\"],\n",
    "    ground_floor_height=ber[\"GroundFloorHeight\"],\n",
    "    first_floor_height=ber[\"FirstFloorHeight\"],\n",
    "    second_floor_height=ber[\"SecondFloorHeight\"],\n",
    "    third_floor_height=ber[\"ThirdFloorHeight\"]\n",
    ")"
   ]
  },
  {
   "cell_type": "code",
   "execution_count": null,
   "metadata": {},
   "outputs": [],
   "source": [
    "ventilation_heat_loss = vent.calculate_ventilation_heat_loss(volume=building_volume)"
   ]
  },
  {
   "cell_type": "code",
   "execution_count": null,
   "metadata": {},
   "outputs": [],
   "source": [
    "heat_loss_coefficient = fab.calculate_heat_loss_coefficient(\n",
    "    fabric_heat_loss=fabric_heat_loss,\n",
    "    ventilation_heat_loss=ventilation_heat_loss,\n",
    ")"
   ]
  },
  {
   "cell_type": "code",
   "execution_count": null,
   "metadata": {},
   "outputs": [],
   "source": [
    "total_floor_area = dim.calculate_total_floor_area(\n",
    "    ground_floor_area=ber[\"GroundFloorArea\"],\n",
    "    first_floor_area=ber[\"FirstFloorArea\"],\n",
    "    second_floor_area=ber[\"SecondFloorArea\"],\n",
    "    third_floor_area=ber[\"ThirdFloorArea\"],\n",
    ")"
   ]
  },
  {
   "cell_type": "code",
   "execution_count": null,
   "metadata": {},
   "outputs": [],
   "source": [
    "heat_loss_parameter = fab.calculate_heat_loss_parameter(\n",
    "    heat_loss_coefficient=heat_loss_coefficient,\n",
    "    total_floor_area=total_floor_area,\n",
    ")"
   ]
  },
  {
   "cell_type": "markdown",
   "metadata": {},
   "source": [
    "# Extract homes where HLP < 2\n",
    "\n",
    "According to SEAI any dwelling with a HLP of less than 2 is suitable for a heat pump without a fabric/ventilation upgrade\n",
    "\n",
    "See SEAI Technical Assessment Process for Heat Pump System Grants: https://www.seai.ie/publications/Technical_Advisor_Role.pdf"
   ]
  },
  {
   "cell_type": "code",
   "execution_count": null,
   "metadata": {},
   "outputs": [],
   "source": [
    "ber[\"heat_loss_parameter\"] = heat_loss_parameter"
   ]
  },
  {
   "cell_type": "code",
   "execution_count": null,
   "metadata": {},
   "outputs": [],
   "source": [
    "suitable_for_hps = ber.query(\"`heat_loss_parameter` < 2\")"
   ]
  },
  {
   "cell_type": "code",
   "execution_count": null,
   "metadata": {},
   "outputs": [],
   "source": [
    "not_suitable_for_hps = ber.query(\"`heat_loss_parameter` >= 2\")"
   ]
  },
  {
   "cell_type": "markdown",
   "metadata": {},
   "source": [
    "# Plot Year of Construction for HLP < 2 dwellings\n",
    "\n",
    "... post 1978 as this shows the general trend and fits easily on a graph"
   ]
  },
  {
   "cell_type": "code",
   "execution_count": null,
   "metadata": {},
   "outputs": [],
   "source": [
    "fig, ax = plt.subplots(figsize=(20,20))\n",
    "ax = sns.countplot(\n",
    "    x=suitable_for_hps.query(\"`Year_of_Construction` > 1978\").Year_of_Construction,\n",
    "    ax=ax\n",
    ")\n",
    "ax.set_xticklabels(ax.get_xticklabels(),rotation=45);"
   ]
  },
  {
   "cell_type": "markdown",
   "metadata": {},
   "source": [
    "# Plot % HLP < 2 in Dublin"
   ]
  },
  {
   "cell_type": "markdown",
   "metadata": {},
   "source": [
    "## Get Dublin Postcode Boundaries"
   ]
  },
  {
   "cell_type": "code",
   "execution_count": null,
   "metadata": {},
   "outputs": [],
   "source": [
    "!wget --no-clobber -O {save_directory}/dublin_postcode_boundaries.zip https://zenodo.org/record/4327005/files/dublin_postcode_boundaries.zip\n",
    "!unzip -d {save_directory} {save_directory}/dublin_postcode_boundaries.zip"
   ]
  },
  {
   "cell_type": "code",
   "execution_count": null,
   "metadata": {},
   "outputs": [],
   "source": [
    "dublin_postcode_boundaries = gpd.read_file(f\"{save_directory}/dublin_postcode_boundaries\")"
   ]
  },
  {
   "cell_type": "markdown",
   "metadata": {},
   "source": [
    "## Plot %HH with HLP < 2 by Postcode"
   ]
  },
  {
   "cell_type": "code",
   "execution_count": null,
   "metadata": {},
   "outputs": [],
   "source": [
    "total_hh_by_county = (\n",
    "    ber[ber[\"CountyName\"].str.contains(\"Dublin\")]\n",
    "    .CountyName\n",
    "    .value_counts()\n",
    "    .rename(\"total\")\n",
    ")"
   ]
  },
  {
   "cell_type": "code",
   "execution_count": null,
   "metadata": {},
   "outputs": [],
   "source": [
    "percentage_suitable_for_hps_by_county = (\n",
    "    suitable_for_hps[suitable_for_hps[\"CountyName\"].str.contains(\"Dublin\")]\n",
    "    .CountyName\n",
    "    .value_counts()\n",
    "    .divide(total_hh_by_county)\n",
    "    .multiply(100)\n",
    "    .round(2)\n",
    "    .rename(\"total\")\n",
    ")"
   ]
  },
  {
   "cell_type": "code",
   "execution_count": null,
   "metadata": {},
   "outputs": [],
   "source": [
    "graph = dublin_postcode_boundaries.merge(\n",
    "    percentage_suitable_for_hps_by_county,\n",
    "    left_on=\"postcodes\",\n",
    "    right_index=True,\n",
    ")"
   ]
  },
  {
   "cell_type": "markdown",
   "metadata": {},
   "source": [
    "Grab the centre point of each polygon so can overlay the postcode names on top of the polygons\n",
    "\n",
    "... adapted from https://stackoverflow.com/questions/38899190/geopandas-label-polygons"
   ]
  },
  {
   "cell_type": "code",
   "execution_count": null,
   "metadata": {},
   "outputs": [],
   "source": [
    "graph['coords'] = graph['geometry'].apply(lambda x: x.representative_point().coords[:])\n",
    "graph['coords'] = [coords[0] for coords in graph['coords']]"
   ]
  },
  {
   "cell_type": "code",
   "execution_count": null,
   "metadata": {},
   "outputs": [],
   "source": [
    "fig, ax = plt.subplots(figsize=(20, 20))\n",
    "graph.plot(\n",
    "    column=\"total\",\n",
    "    legend=True,\n",
    "    ax=ax,\n",
    "    legend_kwds={'label': \"Percentage\"},\n",
    "    cmap=\"BuGn\",\n",
    ")\n",
    "plt.title(\n",
    "    \"\"\"Percentage of Dwellings\n",
    "    in BER Public search [as of 20/01/2021]\n",
    "    with a Heat Loss Parameter of less than 2\n",
    "    \"\"\", \n",
    "    fontsize=20\n",
    ")\n",
    "ax.legend([\"Percentage\"])\n",
    "for idx, row in graph.iterrows():\n",
    "    plt.annotate(\n",
    "        s=row['postcodes'],\n",
    "        xy=row['coords'],\n",
    "        horizontalalignment='center',\n",
    "        color=\"k\",\n",
    "    )"
   ]
  },
  {
   "cell_type": "markdown",
   "metadata": {},
   "source": [
    "# Get % HLP < 2 in Ireland"
   ]
  },
  {
   "cell_type": "code",
   "execution_count": null,
   "metadata": {},
   "outputs": [],
   "source": [
    "percentage_of_homes_suitable = len(suitable_for_hps) / len(ber) * 100"
   ]
  },
  {
   "cell_type": "code",
   "execution_count": null,
   "metadata": {},
   "outputs": [],
   "source": [
    "display(f\"{round(percentage_of_homes_suitable)}% of HH in BER Public search database are suitable for HPs\")"
   ]
  }
 ],
 "metadata": {
  "kernelspec": {
   "display_name": "Python 3",
   "language": "python",
   "name": "python3"
  },
  "language_info": {
   "codemirror_mode": {
    "name": "ipython",
    "version": 3
   },
   "file_extension": ".py",
   "mimetype": "text/x-python",
   "name": "python",
   "nbconvert_exporter": "python",
   "pygments_lexer": "ipython3",
   "version": "3.8.3"
  }
 },
 "nbformat": 4,
 "nbformat_minor": 4
}
