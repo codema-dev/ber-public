{
 "cells": [
  {
   "cell_type": "markdown",
   "metadata": {},
   "source": [
    "This `Jupyter Notebook` downloads the `BER Public search` dataset to your `Google Drive` and converts the data to `parquet` format"
   ]
  },
  {
   "cell_type": "markdown",
   "metadata": {},
   "source": [
    "To run it:\n",
    "\n",
    "- Register your email address with SEAI at https://ndber.seai.ie/BERResearchTool/Register/Register.aspx\n",
    "\n",
    "- Run the cell below to install all dependencies and (if prompted) select `RESTART RUNTIME` to register them\n",
    "\n",
    "- Run all cells by selecting `Runtime > Run All` from the dropdown menu and ...\n",
    "    - Enter your email address\n",
    "    - (Google Colab) Authenticate `Google Drive` by clicking the URL linked in the [Mount Google Drive](#mount-google-drive) section below\n",
    "\n",
    "- Once all cells have finished running you can query the converted `BER Public search` data saved on your `Google Drive` in ...\n",
    "    - [sandbox](https://colab.research.google.com/github/codema-dev/berpublicsearch/blob/main/notebooks/sandbox.ipynb) ... includes links to tutorials\n",
    "    - [heat-loss-parameter](https://colab.research.google.com/github/codema-dev/berpublicsearch/blob/main/notebooks/heat-loss-parameter.ipynb) ... an example application of this repository"
   ]
  },
  {
   "cell_type": "code",
   "execution_count": null,
   "metadata": {},
   "outputs": [],
   "source": [
    "!pip install git+https://github.com/codema-dev/berpublicsearch"
   ]
  },
  {
   "cell_type": "code",
   "execution_count": null,
   "metadata": {},
   "outputs": [],
   "source": [
    "email_address = input(\"Enter your email eddress: \")"
   ]
  },
  {
   "cell_type": "code",
   "execution_count": null,
   "metadata": {},
   "outputs": [],
   "source": [
    "from google.colab import drive\n",
    "drive.mount('/content/drive')"
   ]
  },
  {
   "cell_type": "code",
   "execution_count": null,
   "metadata": {},
   "outputs": [],
   "source": [
    "from os import mkdir\n",
    "from os import path\n",
    "\n",
    "save_directory = \"/content/drive/MyDrive/berpublicsearch\"\n",
    "\n",
    "if path.exists(save_directory):\n",
    "    print(f\"Skipping creation of new folder as {save_directory} already exists!\")\n",
    "else:\n",
    "    mkdir(save_directory)\n",
    "    \n",
    "path_to_berpublicsearch_zip = f\"{save_directory}/BERPublicsearch.zip\"\n",
    "path_to_berpublicsearch_unzipped = f\"{save_directory}/BERPublicsearch\"\n",
    "path_to_berpublicsearch_parquet = f\"{save_directory}/BERPublicsearch_parquet\""
   ]
  },
  {
   "cell_type": "markdown",
   "metadata": {},
   "source": [
    "# Download `BERPublicsearch.zip` and convert to `parquet`\n",
    "\n",
    "`parquet` is used here inplace of the default `txt` format as it is:\n",
    "1. Compressed on disk: 184 MB vs 972 MB\n",
    "2. Siginficantly faster input speeds as it is read column-by-column rather than row-by-row"
   ]
  },
  {
   "cell_type": "code",
   "execution_count": null,
   "metadata": {},
   "outputs": [],
   "source": [
    "from berpublicsearch.download import download_berpublicsearch\n",
    "\n",
    "download_berpublicsearch(email_address, path_to_berpublicsearch_zip)"
   ]
  },
  {
   "cell_type": "code",
   "execution_count": null,
   "metadata": {},
   "outputs": [],
   "source": [
    "from shutil import unpack_archive\n",
    "\n",
    "unpack_archive(path_to_berpublicsearch_zip, path_to_berpublicsearch_unzipped)"
   ]
  },
  {
   "cell_type": "code",
   "execution_count": null,
   "metadata": {},
   "outputs": [],
   "source": [
    "from berpublicsearch.convert import convert_to_parquet\n",
    "\n",
    "convert_to_parquet(path_to_berpublicsearch_unzipped, path_to_berpublicsearch_parquet)"
   ]
  },
  {
   "cell_type": "markdown",
   "metadata": {},
   "source": [
    "# Now try ...\n",
    "- [sandbox](https://colab.research.google.com/github/codema-dev/berpublicsearch/blob/main/notebooks/sandbox.ipynb) ... includes links to tutorials\n",
    "- [heat-loss-parameter](https://colab.research.google.com/github/codema-dev/berpublicsearch/blob/main/notebooks/heat-loss-parameter.ipynb) ... an example application of this repository"
   ]
  }
 ],
 "metadata": {
  "kernelspec": {
   "display_name": "Python 3",
   "language": "python",
   "name": "python3"
  },
  "language_info": {
   "codemirror_mode": {
    "name": "ipython",
    "version": 3
   },
   "file_extension": ".py",
   "mimetype": "text/x-python",
   "name": "python",
   "nbconvert_exporter": "python",
   "pygments_lexer": "ipython3",
   "version": "3.9.1"
  }
 },
 "nbformat": 4,
 "nbformat_minor": 4
}
