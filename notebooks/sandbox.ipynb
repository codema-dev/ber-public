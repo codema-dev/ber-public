{
 "cells": [
  {
   "cell_type": "markdown",
   "metadata": {},
   "source": [
    "Install the `berpublicsearch` repository to access its custom download code"
   ]
  },
  {
   "cell_type": "code",
   "execution_count": null,
   "metadata": {},
   "outputs": [],
   "source": [
    "!pip install git+https://github.com/codema-dev/berpublicsearch"
   ]
  },
  {
   "cell_type": "markdown",
   "metadata": {},
   "source": [
    "# Download `BERPublicsearch.zip` and convert to parquet \n",
    "\n",
    "`parquet` is used here inplace of the default `txt` format as it is:\n",
    "1. Compressed on disk: 184 MB vs 972 MB\n",
    "2. Siginficantly faster input speeds as it is read column-by-column rather than row-by-row"
   ]
  },
  {
   "cell_type": "code",
   "execution_count": null,
   "metadata": {},
   "outputs": [],
   "source": [
    "from pathlib import Path\n",
    "\n",
    "from berpublicsearch.flow import flow"
   ]
  },
  {
   "cell_type": "markdown",
   "metadata": {},
   "source": [
    "__WARNING!__\n",
    "\n",
    "You must first register your email address with SEAI at https://ndber.seai.ie/BERResearchTool/Register/Register.aspx to access the BER Public search data"
   ]
  },
  {
   "cell_type": "code",
   "execution_count": null,
   "metadata": {},
   "outputs": [],
   "source": [
    "email_address = input(\"Enter your email eddress: \")"
   ]
  },
  {
   "cell_type": "markdown",
   "metadata": {},
   "source": [
    "If running this notebook in `Google Collab` can optionally mount your `Google Drive` and change the `save_directory` below to a folder on your `Google Drive` ... this means that \n",
    "\n",
    "    i.e. replace Path.cwd() below with \"/drive/content/MyDrive/NAME-OF-FOLDER\" once your Google Drive has been mounted"
   ]
  },
  {
   "cell_type": "code",
   "execution_count": null,
   "metadata": {},
   "outputs": [],
   "source": [
    "save_directory = Path.cwd()"
   ]
  },
  {
   "cell_type": "code",
   "execution_count": null,
   "metadata": {},
   "outputs": [],
   "source": [
    "path_to_berpublicsearch_zip = f\"{save_directory}/BERPublicsearch.zip\"\n",
    "path_to_berpublicsearch_parquet = f\"{save_directory}/BERPublicsearch\""
   ]
  },
  {
   "cell_type": "code",
   "execution_count": null,
   "metadata": {},
   "outputs": [],
   "source": [
    "flow.run(\n",
    "    email_address=email_address,\n",
    "    path_to_berpublicsearch_zip=path_to_berpublicsearch_zip,\n",
    "    path_to_berpublicsearch_parquet=path_to_berpublicsearch_parquet\n",
    ")"
   ]
  },
  {
   "cell_type": "markdown",
   "metadata": {},
   "source": [
    "# Experiment with the BER data in this `sandbox` environment\n",
    "\n",
    "Can now query the BER Public search data in this notebook using `dask`.  `dask` uses `pandas` under the hood but has the advantage of scaling to large data. \n",
    "\n",
    "If you are unfamiliar with `pandas` see:\n",
    "- [Getting started](https://pandas.pydata.org/docs/getting_started/index.html#getting-started)\n",
    "- [Community tutorials](https://pandas.pydata.org/docs/getting_started/tutorials.html?highlight=community) ... includes YouTube videos and interactive tutorials\n",
    "\n",
    "If you are familiar with `pandas` but new to `dask` see:\n",
    "- [Dask DataFrame](https://docs.dask.org/en/latest/dataframe.html)\n",
    "- [Community tutorials](https://docs.dask.org/en/latest/educational-resources.html?highlight=communitytutorials#educational-resources) ... includes YouTube videos and interactive tutorials\n",
    "under the hood so if you are familiar with `pandas` using `dask` is straightforward "
   ]
  },
  {
   "cell_type": "code",
   "execution_count": null,
   "metadata": {},
   "outputs": [],
   "source": [
    "import dask.dataframe as dd"
   ]
  },
  {
   "cell_type": "code",
   "execution_count": null,
   "metadata": {},
   "outputs": [],
   "source": [
    "ber = dd.read_parquet(path_to_berpublicsearch_parquet)"
   ]
  },
  {
   "cell_type": "code",
   "execution_count": null,
   "metadata": {},
   "outputs": [],
   "source": [
    "ber.head()"
   ]
  }
 ],
 "metadata": {
  "kernelspec": {
   "display_name": "Python 3",
   "language": "python",
   "name": "python3"
  },
  "language_info": {
   "codemirror_mode": {
    "name": "ipython",
    "version": 3
   },
   "file_extension": ".py",
   "mimetype": "text/x-python",
   "name": "python",
   "nbconvert_exporter": "python",
   "pygments_lexer": "ipython3",
   "version": "3.8.6"
  }
 },
 "nbformat": 4,
 "nbformat_minor": 4
}
