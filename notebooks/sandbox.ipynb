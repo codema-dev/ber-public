{
 "cells": [
  {
   "cell_type": "markdown",
   "metadata": {},
   "source": [
    "# Run `setup-sandbox` first to download and convert `BER Public Search` to `parquet`"
   ]
  },
  {
   "cell_type": "markdown",
   "metadata": {},
   "source": [
    "# Experiment with the BER data in this `sandbox` environment\n",
    "\n",
    "Can now query the BER Public search data in this notebook using `dask`.  `dask` uses `pandas` under the hood but has the advantage of scaling to large data. \n",
    "\n",
    "If you are unfamiliar with `pandas` see:\n",
    "- [Getting started](https://pandas.pydata.org/docs/getting_started/index.html#getting-started)\n",
    "- [Community tutorials](https://pandas.pydata.org/docs/getting_started/tutorials.html?highlight=community) ... includes YouTube videos and interactive tutorials\n",
    "\n",
    "If you are familiar with `pandas` but new to `dask` see:\n",
    "- [Dask DataFrame](https://docs.dask.org/en/latest/dataframe.html)\n",
    "- [Community tutorials](https://docs.dask.org/en/latest/educational-resources.html?highlight=communitytutorials#educational-resources) ... includes YouTube videos and interactive tutorials\n",
    "under the hood so if you are familiar with `pandas` using `dask` is straightforward "
   ]
  },
  {
   "cell_type": "code",
   "execution_count": null,
   "metadata": {},
   "outputs": [],
   "source": [
    "import dask.dataframe as dd\n",
    "\n",
    "save_directory = \"/content/drive/MyDrive/berpublicsearch\"\n",
    "path_to_berpublicsearch_unzipped = f\"{save_directory}/BERPublicsearch\"\n",
    "path_to_berpublicsearch_parquet = f\"{save_directory}/BERPublicsearch_parquet\"\n",
    "\n",
    "ber = dd.read_parquet(path_to_berpublicsearch_parquet)"
   ]
  },
  {
   "cell_type": "markdown",
   "metadata": {},
   "source": [
    "If above cell fails uncomment and run:"
   ]
  },
  {
   "cell_type": "code",
   "execution_count": null,
   "metadata": {},
   "outputs": [],
   "source": [
    "# from berpublicsearch.read import read_berpublicsearch_txt\n",
    "# ber = read_berpublicsearch_txt(path_to_berpublicsearch_unzipped)"
   ]
  },
  {
   "cell_type": "markdown",
   "metadata": {},
   "source": [
    "Now "
   ]
  },
  {
   "cell_type": "code",
   "execution_count": null,
   "metadata": {},
   "outputs": [],
   "source": []
  }
 ],
 "metadata": {
  "kernelspec": {
   "display_name": "Python 3",
   "language": "python",
   "name": "python3"
  },
  "language_info": {
   "codemirror_mode": {
    "name": "ipython",
    "version": 3
   },
   "file_extension": ".py",
   "mimetype": "text/x-python",
   "name": "python",
   "nbconvert_exporter": "python",
   "pygments_lexer": "ipython3",
   "version": "3.9.1"
  }
 },
 "nbformat": 4,
 "nbformat_minor": 4
}
