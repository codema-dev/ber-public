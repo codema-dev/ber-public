{
 "cells": [
  {
   "source": [
    "# Download BERPublicsearch.zip, unzip & convert to parquet"
   ],
   "cell_type": "markdown",
   "metadata": {}
  },
  {
   "cell_type": "code",
   "execution_count": null,
   "metadata": {},
   "outputs": [],
   "source": [
    "# If running this in Google Colab\n",
    "# If prompted click the `RESTART RUNTIME` button below this cell\n",
    "# !pip install berpublicsearch geopandas numexpr seaborn matplotlib descartes seai-deap"
   ]
  },
  {
   "cell_type": "code",
   "execution_count": 1,
   "metadata": {},
   "outputs": [],
   "source": [
    "# Register your email address with SEAI at https://ndber.seai.ie/BERResearchTool/Register/Register.aspx\n",
    "email_address=\"rowan.molony@codema.ie\""
   ]
  },
  {
   "source": [
    "from berpublicsearch.download import download_berpublicsearch_parquet\n",
    "\n",
    "download_berpublicsearch_parquet(email_address)"
   ],
   "cell_type": "code",
   "metadata": {},
   "execution_count": null,
   "outputs": []
  },
  {
   "cell_type": "markdown",
   "metadata": {},
   "source": [
    "# Experiment with the BER data in this `sandbox` environment\n",
    "\n",
    "Can now query the BER Public search data in this notebook using `dask`.  `dask` uses `pandas` under the hood but has the advantage of scaling to large data. \n",
    "\n",
    "If you are unfamiliar with `pandas` see:\n",
    "- [Getting started](https://pandas.pydata.org/docs/getting_started/index.html#getting-started)\n",
    "- [Community tutorials](https://pandas.pydata.org/docs/getting_started/tutorials.html?highlight=community) ... includes YouTube videos and interactive tutorials\n",
    "\n",
    "If you are familiar with `pandas` but new to `dask` see:\n",
    "- [Dask DataFrame](https://docs.dask.org/en/latest/dataframe.html)\n",
    "- [Community tutorials](https://docs.dask.org/en/latest/educational-resources.html?highlight=communitytutorials#educational-resources) ... includes YouTube videos and interactive tutorials\n",
    "under the hood so if you are familiar with `pandas` using `dask` is straightforward "
   ]
  },
  {
   "cell_type": "code",
   "execution_count": null,
   "metadata": {},
   "outputs": [],
   "source": [
    "import dask.dataframe as dd\n",
    "\n",
    "ber = dd.read_parquet(\"BERPublicsearch_parquet\")"
   ]
  },
  {
   "cell_type": "markdown",
   "metadata": {},
   "source": [
    "Now you can query the `ber` object to explore the `BER Public search` dataset ..."
   ]
  },
  {
   "cell_type": "code",
   "execution_count": null,
   "metadata": {},
   "outputs": [],
   "source": [
    "ber.head().compute()"
   ]
  },
  {
   "cell_type": "code",
   "execution_count": null,
   "metadata": {},
   "outputs": [],
   "source": []
  }
 ],
 "metadata": {
  "kernelspec": {
   "name": "python3",
   "display_name": "Python 3.9.1 64-bit ('berpublicsearch': conda)",
   "metadata": {
    "interpreter": {
     "hash": "eaacbfc5a6b17fc5ffb009d5440632e894d4533559cbc7da88b68d7277912fdf"
    }
   }
  },
  "language_info": {
   "codemirror_mode": {
    "name": "ipython",
    "version": 3
   },
   "file_extension": ".py",
   "mimetype": "text/x-python",
   "name": "python",
   "nbconvert_exporter": "python",
   "pygments_lexer": "ipython3",
   "version": "3.9.1"
  }
 },
 "nbformat": 4,
 "nbformat_minor": 4
}